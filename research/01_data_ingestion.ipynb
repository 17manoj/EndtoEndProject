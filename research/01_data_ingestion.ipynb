{
 "cells": [
  {
   "cell_type": "code",
   "execution_count": 1,
   "metadata": {},
   "outputs": [],
   "source": [
    "import os"
   ]
  },
  {
   "cell_type": "code",
   "execution_count": 2,
   "metadata": {},
   "outputs": [
    {
     "data": {
      "text/plain": [
       "'c:\\\\Users\\\\MANOJ\\\\Desktop\\\\EndToEndProject\\\\research'"
      ]
     },
     "execution_count": 2,
     "metadata": {},
     "output_type": "execute_result"
    }
   ],
   "source": [
    "%pwd"
   ]
  },
  {
   "cell_type": "code",
   "execution_count": 3,
   "metadata": {},
   "outputs": [],
   "source": [
    "from dataclasses import dataclass\n",
    "from pathlib import Path\n",
    "\n",
    "@dataclass(frozen= True)\n",
    "class DataIngestionConfig:\n",
    "    root_dir: Path\n",
    "    Source_URL: str\n",
    "    local_data_file: Path\n",
    "    unzip_dir:Path"
   ]
  },
  {
   "cell_type": "code",
   "execution_count": 4,
   "metadata": {},
   "outputs": [],
   "source": [
    "from mlProject.constants import *\n",
    "from mlProject.utils.common import read_yaml, create_directories\n",
    "\n",
    "class configurationManager:\n",
    "    def __init__(\n",
    "            self,\n",
    "            config_filepath = CONFIG_FILE_PATH,\n",
    "            params_filepath = PARAMS_FILE_PATH,\n",
    "            schema_filepath = SCHEMA_FILE_PATH):\n",
    "\n",
    "        self.config = read_yaml(config_filepath)\n",
    "        self.params = read_yaml(params_filepath)\n",
    "        self.schema = read_yaml(schema_filepath)\n",
    "\n",
    "        create_directories([self.config.artifacts_root])\n",
    "\n",
    "    def get_data_ingestion_config(self) -> DataIngestionConfig:\n",
    "        config = self.config.data_ingestion\n",
    "        create_directories([config.root_dir])\n",
    "        data_ingestion_config = DataIngestionConfig(\n",
    "            root_dir=config.root_dir,\n",
    "            Source_URL=config.source_URL,\n",
    "            local_data_file=config.local_data_file,\n",
    "            unzip_dir=config.unzip_dir  \n",
    "        )\n",
    "        return data_ingestion_config\n",
    "    \n",
    "    \n",
    "\n",
    "        "
   ]
  },
  {
   "cell_type": "code",
   "execution_count": 5,
   "metadata": {},
   "outputs": [],
   "source": [
    "import os\n",
    "import urllib.request as request\n",
    "import zipfile\n",
    "from mlProject import logger\n",
    "from mlProject.utils.common import get_size"
   ]
  },
  {
   "cell_type": "code",
   "execution_count": 6,
   "metadata": {},
   "outputs": [],
   "source": [
    "class DataIngestion:\n",
    "    def __init__(self ,config:DataIngestionConfig):\n",
    "        self.config = config\n",
    "\n",
    "\n",
    "    def download_file(self):\n",
    "        if not os.path.exists(self.config.local_data_file):\n",
    "            print('current directory -> ',os.getcwd() )\n",
    "            filename,header = request.urlretrieve(\n",
    "                url = self.config.Source_URL,\n",
    "                filename=self.config.local_data_file\n",
    "            )     \n",
    "\n",
    "            logger.info(f'{filename} download with following info: \\n{header}')\n",
    "        else:\n",
    "            logger.info(f'file already exists of size: {get_size(Path(self.config.local_data_file))} ')  \n",
    "\n",
    "    def extract_zip_file(self):\n",
    "        unzip_path = self.config.unzip_dir\n",
    "        os.makedirs(unzip_path, exist_ok=True )\n",
    "        print('zp file path --> ',unzip_path)\n",
    "        with zipfile.ZipFile(self.config.local_data_file,'r') as zip_ref:\n",
    "            zip_ref.extractall(unzip_path)\n",
    "            \n"
   ]
  },
  {
   "cell_type": "code",
   "execution_count": 8,
   "metadata": {},
   "outputs": [
    {
     "name": "stdout",
     "output_type": "stream",
     "text": [
      "current directory -> c:\\Users\\MANOJ\\Desktop\\EndToEndProject\n",
      "current directory -> c:\\Users\\MANOJ\\Desktop\\EndToEndProject\n",
      "[2024-09-15 12:48:55,129:INFO:common:yaml file: config\\config.yaml loaded successfully]\n",
      "current directory -> c:\\Users\\MANOJ\\Desktop\\EndToEndProject\n",
      "current directory -> c:\\Users\\MANOJ\\Desktop\\EndToEndProject\n",
      "[2024-09-15 12:48:55,129:INFO:common:yaml file: params.yaml loaded successfully]\n",
      "current directory -> c:\\Users\\MANOJ\\Desktop\\EndToEndProject\n",
      "current directory -> c:\\Users\\MANOJ\\Desktop\\EndToEndProject\n",
      "[2024-09-15 12:48:55,136:INFO:common:yaml file: schema.yaml loaded successfully]\n",
      "[2024-09-15 12:48:55,136:INFO:common:created directory at: artifacts]\n",
      "[2024-09-15 12:48:55,144:INFO:common:created directory at: artifacts/data_ingestion]\n",
      "current directory ->  c:\\Users\\MANOJ\\Desktop\\EndToEndProject\n",
      "[2024-09-15 12:48:57,556:INFO:3305702792:artifacts/data_ingestion/data.zip download with following info: \n",
      "Connection: close\n",
      "Content-Length: 21952\n",
      "Cache-Control: max-age=300\n",
      "Content-Security-Policy: default-src 'none'; style-src 'unsafe-inline'; sandbox\n",
      "Content-Type: application/zip\n",
      "ETag: \"585aec2de93886a34b92b109013d1e6bb94e160950d4be79577bece0d6e9d4a9\"\n",
      "Strict-Transport-Security: max-age=31536000\n",
      "X-Content-Type-Options: nosniff\n",
      "X-Frame-Options: deny\n",
      "X-XSS-Protection: 1; mode=block\n",
      "X-GitHub-Request-Id: 42A0:373616:6F0154:8ACCBA:66E68A60\n",
      "Accept-Ranges: bytes\n",
      "Date: Sun, 15 Sep 2024 07:18:57 GMT\n",
      "Via: 1.1 varnish\n",
      "X-Served-By: cache-maa10243-MAA\n",
      "X-Cache: MISS\n",
      "X-Cache-Hits: 0\n",
      "X-Timer: S1726384737.079071,VS0,VE285\n",
      "Vary: Authorization,Accept-Encoding,Origin\n",
      "Access-Control-Allow-Origin: *\n",
      "Cross-Origin-Resource-Policy: cross-origin\n",
      "X-Fastly-Request-ID: 995d13449f05875e6d641960e0eb08f52e689a82\n",
      "Expires: Sun, 15 Sep 2024 07:23:57 GMT\n",
      "Source-Age: 0\n",
      "\n",
      "]\n",
      "zp file path -->  artifacts/data_ingestion\n"
     ]
    }
   ],
   "source": [
    "try:\n",
    "    config = configurationManager()\n",
    "    data_ingestion_config = config.get_data_ingestion_config()\n",
    "    data_ingestion = DataIngestion(config=data_ingestion_config)\n",
    "    data_ingestion.download_file()\n",
    "    data_ingestion.extract_zip_file()\n",
    "\n",
    "except Exception as e:\n",
    "    raise e\n"
   ]
  }
 ],
 "metadata": {
  "kernelspec": {
   "display_name": "base",
   "language": "python",
   "name": "python3"
  },
  "language_info": {
   "codemirror_mode": {
    "name": "ipython",
    "version": 3
   },
   "file_extension": ".py",
   "mimetype": "text/x-python",
   "name": "python",
   "nbconvert_exporter": "python",
   "pygments_lexer": "ipython3",
   "version": "3.11.5"
  }
 },
 "nbformat": 4,
 "nbformat_minor": 2
}
