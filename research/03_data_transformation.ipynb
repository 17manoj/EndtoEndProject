{
 "cells": [
  {
   "cell_type": "code",
   "execution_count": 1,
   "metadata": {},
   "outputs": [],
   "source": [
    "import os "
   ]
  },
  {
   "cell_type": "code",
   "execution_count": 2,
   "metadata": {},
   "outputs": [
    {
     "data": {
      "text/plain": [
       "'c:\\\\Users\\\\MANOJ\\\\Desktop\\\\EndToEndProject\\\\research'"
      ]
     },
     "execution_count": 2,
     "metadata": {},
     "output_type": "execute_result"
    }
   ],
   "source": [
    "%pwd"
   ]
  },
  {
   "cell_type": "code",
   "execution_count": 3,
   "metadata": {},
   "outputs": [],
   "source": [
    "os.chdir(\"../\")"
   ]
  },
  {
   "cell_type": "code",
   "execution_count": 4,
   "metadata": {},
   "outputs": [
    {
     "data": {
      "text/plain": [
       "'c:\\\\Users\\\\MANOJ\\\\Desktop\\\\EndToEndProject'"
      ]
     },
     "execution_count": 4,
     "metadata": {},
     "output_type": "execute_result"
    }
   ],
   "source": [
    "%pwd"
   ]
  },
  {
   "cell_type": "code",
   "execution_count": 5,
   "metadata": {},
   "outputs": [],
   "source": [
    "from dataclasses import dataclass\n",
    "from pathlib import Path\n",
    "\n",
    "@dataclass(frozen= True)\n",
    "class DataTransformationConfig:\n",
    "    root_dir: Path\n",
    "    data_path:Path\n",
    "\n"
   ]
  },
  {
   "cell_type": "code",
   "execution_count": 6,
   "metadata": {},
   "outputs": [],
   "source": [
    "from mlProject.constants import *\n",
    "from mlProject.utils.common import read_yaml, create_directories\n",
    "\n",
    "class configurationManager:\n",
    "    def __init__(\n",
    "            self,\n",
    "            config_filepath = CONFIG_FILE_PATH,\n",
    "            params_filepath = PARAMS_FILE_PATH,\n",
    "            schema_filepath = SCHEMA_FILE_PATH):\n",
    "\n",
    "        self.config = read_yaml(config_filepath)\n",
    "        self.params = read_yaml(params_filepath)\n",
    "        self.schema = read_yaml(schema_filepath)\n",
    "\n",
    "        create_directories([self.config.artifacts_root])\n",
    "\n",
    "    def get_data_transformation_config(self) -> DataTransformationConfig:\n",
    "        config = self.config.data_transformation\n",
    "        schema = self.schema.COLUMNS\n",
    "        create_directories([config.root_dir])\n",
    "        data_transformation_config = DataTransformationConfig(\n",
    "            root_dir=config.root_dir,\n",
    "            data_path=config.data_path\n",
    "        )\n",
    "        return data_transformation_config"
   ]
  },
  {
   "cell_type": "code",
   "execution_count": 7,
   "metadata": {},
   "outputs": [
    {
     "name": "stdout",
     "output_type": "stream",
     "text": [
      "[2024-10-05 12:30:56,706:INFO:utils:NumExpr defaulting to 4 threads.]\n"
     ]
    }
   ],
   "source": [
    "import os\n",
    "from mlProject import logger\n",
    "from sklearn.model_selection import train_test_split\n",
    "import pandas as pd\n",
    "\n",
    "class DataTransformation:\n",
    "    def __init__(self, config:DataTransformationConfig):\n",
    "        self.config= config\n",
    "\n",
    "    def train_test_splitting(self):\n",
    "        data = pd.read_csv(self.config.data_path)\n",
    "\n",
    "        print(data.columns)\n",
    "        X_train, X_test, y_train, y_test = train_test_split( data.drop('quality',axis=1), data['quality'], test_size=0.33, random_state=42)\n",
    "        pd.DataFrame(X_train).to_csv(os.path.join(self.config.root_dir,\"X_train.csv\"),index=False)\n",
    "        pd.DataFrame(X_test).to_csv(os.path.join(self.config.root_dir,\"X_test.csv\"),index=False)\n",
    "        pd.DataFrame(y_train).to_csv(os.path.join(self.config.root_dir,\"y_train.csv\"),index=False)\n",
    "        pd.DataFrame(y_test).to_csv(os.path.join(self.config.root_dir,\"y_test.csv\"),index=False)\n",
    "\n",
    "        logger.info(\"Splitted data into training and test sets\")\n",
    "        logger.info(X_train.shape)\n",
    "        logger.info(y_train.shape)\n",
    "\n",
    "     "
   ]
  },
  {
   "cell_type": "code",
   "execution_count": 10,
   "metadata": {},
   "outputs": [
    {
     "name": "stdout",
     "output_type": "stream",
     "text": [
      "[2024-10-05 12:33:11,588:INFO:common:yaml file: config\\config.yaml loaded successfully]\n",
      "[2024-10-05 12:33:11,588:INFO:common:yaml file: params.yaml loaded successfully]\n",
      "[2024-10-05 12:33:11,604:INFO:common:yaml file: schema.yaml loaded successfully]\n",
      "[2024-10-05 12:33:11,604:INFO:common:created directory at: artifacts]\n",
      "[2024-10-05 12:33:11,612:INFO:common:created directory at: artifacts/data_tranformation]\n",
      "Index(['fixed acidity', 'volatile acidity', 'citric acid', 'residual sugar',\n",
      "       'chlorides', 'free sulfur dioxide', 'total sulfur dioxide', 'density',\n",
      "       'pH', 'sulphates', 'alcohol', 'quality', 'Id'],\n",
      "      dtype='object')\n",
      "[2024-10-05 12:33:11,688:INFO:2497112532:Splitted data into training and test sets]\n",
      "[2024-10-05 12:33:11,690:INFO:2497112532:(765, 12)]\n",
      "[2024-10-05 12:33:11,690:INFO:2497112532:(765,)]\n"
     ]
    }
   ],
   "source": [
    "try:\n",
    "    config = configurationManager()\n",
    "    data_transform_config = config.get_data_transformation_config()\n",
    "    data_transform = DataTransformation(config= data_transform_config)\n",
    "    data_transform.train_test_splitting()\n",
    "except Exception as e:\n",
    "    raise e\n"
   ]
  }
 ],
 "metadata": {
  "kernelspec": {
   "display_name": "base",
   "language": "python",
   "name": "python3"
  },
  "language_info": {
   "codemirror_mode": {
    "name": "ipython",
    "version": 3
   },
   "file_extension": ".py",
   "mimetype": "text/x-python",
   "name": "python",
   "nbconvert_exporter": "python",
   "pygments_lexer": "ipython3",
   "version": "3.11.5"
  }
 },
 "nbformat": 4,
 "nbformat_minor": 2
}
